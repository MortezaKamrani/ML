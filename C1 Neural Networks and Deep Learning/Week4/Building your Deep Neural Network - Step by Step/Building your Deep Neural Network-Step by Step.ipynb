{
 "cells": [
  {
   "cell_type": "markdown",
   "source": [
    "# Building your Deep Neural Network: Step by Step\n",
    "\n",
    "Welcome to your week 4 assignment (part 1 of 2)! You have previously trained a 2-layer Neural Network (with a single hidden layer). This week, you will build a deep neural network, with as many layers as you want!\n",
    "\n",
    "- In this notebook, you will implement all the functions required to build a deep neural network.\n",
    "- In the next assignment, you will use these functions to build a deep neural network for image classification.\n",
    "\n",
    "**After this assignment you will be able to:**\n",
    "- Use non-linear units like ReLU to improve your model\n",
    "- Build a deeper neural network (with more than 1 hidden layer)\n",
    "- Implement an easy-to-use neural network class\n",
    "\n",
    "**Notation**:\n",
    "- Superscript $[l]$ denotes a quantity associated with the $l^{th}$ layer. \n",
    "    - Example: $a^{[L]}$ is the $L^{th}$ layer activation. $W^{[L]}$ and $b^{[L]}$ are the $L^{th}$ layer parameters.\n",
    "- Superscript $(i)$ denotes a quantity associated with the $i^{th}$ example. \n",
    "    - Example: $x^{(i)}$ is the $i^{th}$ training example.\n",
    "- Lowerscript $i$ denotes the $i^{th}$ entry of a vector.\n",
    "    - Example: $a^{[l]}_i$ denotes the $i^{th}$ entry of the $l^{th}$ layer's activations).\n",
    "\n",
    "Let's get started!"
   ],
   "metadata": {}
  },
  {
   "cell_type": "markdown",
   "source": [
    "## 1 - Packages\n",
    "\n",
    "Let's first import all the packages that you will need during this assignment. \n",
    "- [numpy](www.numpy.org) is the main package for scientific computing with Python.\n",
    "- [matplotlib](http://matplotlib.org) is a library to plot graphs in Python.\n",
    "- dnn_utils provides some necessary functions for this notebook.\n",
    "- testCases provides some test cases to assess the correctness of your functions\n",
    "- np.random.seed(1) is used to keep all the random function calls consistent. It will help us grade your work. Please don't change the seed. "
   ],
   "metadata": {}
  },
  {
   "cell_type": "code",
   "execution_count": 2,
   "source": [
    "import numpy as np\r\n",
    "import h5py\r\n",
    "import matplotlib.pyplot as plt\r\n",
    "from testCases_v2 import *\r\n",
    "from dnn_utils_v2 import sigmoid, sigmoid_backward, relu, relu_backward\r\n",
    "\r\n",
    "%matplotlib inline\r\n",
    "plt.rcParams['figure.figsize'] = (5.0, 4.0) # set default size of plots\r\n",
    "plt.rcParams['image.interpolation'] = 'nearest'\r\n",
    "plt.rcParams['image.cmap'] = 'gray'\r\n",
    "\r\n",
    "%load_ext autoreload\r\n",
    "%autoreload 2\r\n",
    "\r\n",
    "np.random.seed(1)"
   ],
   "outputs": [],
   "metadata": {}
  },
  {
   "cell_type": "markdown",
   "source": [
    "## 2 - Outline of the Assignment\n",
    "\n",
    "To build your neural network, you will be implementing several \"helper functions\". These helper functions will be used in the next assignment to build a two-layer neural network and an L-layer neural network. Each small helper function you will implement will have detailed instructions that will walk you through the necessary steps. Here is an outline of this assignment, you will:\n",
    "\n",
    "- Initialize the parameters for a two-layer network and for an $L$-layer neural network.\n",
    "- Implement the forward propagation module (shown in purple in the figure below).\n",
    "     - Complete the LINEAR part of a layer's forward propagation step (resulting in $Z^{[l]}$).\n",
    "     - We give you the ACTIVATION function (relu/sigmoid).\n",
    "     - Combine the previous two steps into a new [LINEAR->ACTIVATION] forward function.\n",
    "     - Stack the [LINEAR->RELU] forward function L-1 time (for layers 1 through L-1) and add a [LINEAR->SIGMOID] at the end (for the final layer $L$). This gives you a new L_model_forward function.\n",
    "- Compute the loss.\n",
    "- Implement the backward propagation module (denoted in red in the figure below).\n",
    "    - Complete the LINEAR part of a layer's backward propagation step.\n",
    "    - We give you the gradient of the ACTIVATE function (relu_backward/sigmoid_backward) \n",
    "    - Combine the previous two steps into a new [LINEAR->ACTIVATION] backward function.\n",
    "    - Stack [LINEAR->RELU] backward L-1 times and add [LINEAR->SIGMOID] backward in a new L_model_backward function\n",
    "- Finally update the parameters.\n",
    "\n",
    "<img src=\"images/final outline.png\" style=\"width:800px;height:500px;\">\n",
    "<caption><center> **Figure 1**</center></caption><br>\n",
    "\n",
    "\n",
    "**Note** that for every forward function, there is a corresponding backward function. That is why at every step of your forward module you will be storing some values in a cache. The cached values are useful for computing gradients. In the backpropagation module you will then use the cache to calculate the gradients. This assignment will show you exactly how to carry out each of these steps. "
   ],
   "metadata": {
    "collapsed": true
   }
  },
  {
   "cell_type": "markdown",
   "source": [
    "## 3 - Initialization\n",
    "\n",
    "You will write two helper functions that will initialize the parameters for your model. The first function will be used to initialize parameters for a two layer model. The second one will generalize this initialization process to $L$ layers.\n",
    "\n",
    "### 3.1 - 2-layer Neural Network\n",
    "\n",
    "**Exercise**: Create and initialize the parameters of the 2-layer neural network.\n",
    "\n",
    "**Instructions**:\n",
    "- The model's structure is: *LINEAR -> RELU -> LINEAR -> SIGMOID*. \n",
    "- Use random initialization for the weight matrices. Use `np.random.randn(shape)*0.01` with the correct shape.\n",
    "- Use zero initialization for the biases. Use `np.zeros(shape)`."
   ],
   "metadata": {
    "collapsed": true
   }
  },
  {
   "cell_type": "code",
   "execution_count": 5,
   "source": [
    "# GRADED FUNCTION: initialize_parameters\r\n",
    "\r\n",
    "def initialize_parameters(n_x, n_h, n_y):\r\n",
    "    \"\"\"\r\n",
    "    Argument:\r\n",
    "    n_x -- size of the input layer\r\n",
    "    n_h -- size of the hidden layer\r\n",
    "    n_y -- size of the output layer\r\n",
    "    \r\n",
    "    Returns:\r\n",
    "    parameters -- python dictionary containing your parameters:\r\n",
    "                    W1 -- weight matrix of shape (n_h, n_x)\r\n",
    "                    b1 -- bias vector of shape (n_h, 1)\r\n",
    "                    W2 -- weight matrix of shape (n_y, n_h)\r\n",
    "                    b2 -- bias vector of shape (n_y, 1)\r\n",
    "    \"\"\"\r\n",
    "    \r\n",
    "    np.random.seed(1)\r\n",
    "    \r\n",
    "    ### START CODE HERE ### (≈ 4 lines of code)\r\n",
    "    W1 = np.random.randn(n_h, n_x) * 0.01\r\n",
    "    b1 = np.zeros((n_h,1))\r\n",
    "    W2 = np.random.randn(n_y, n_h) * 0.01\r\n",
    "    b2 = np.zeros((n_y,1))\r\n",
    "    ### END CODE HERE ###\r\n",
    "    \r\n",
    "    assert(W1.shape == (n_h, n_x))\r\n",
    "    assert(b1.shape == (n_h, 1))\r\n",
    "    assert(W2.shape == (n_y, n_h))\r\n",
    "    assert(b2.shape == (n_y, 1))\r\n",
    "    \r\n",
    "    parameters = {\"W1\": W1,\r\n",
    "                  \"b1\": b1,\r\n",
    "                  \"W2\": W2,\r\n",
    "                  \"b2\": b2}\r\n",
    "    \r\n",
    "    return parameters    "
   ],
   "outputs": [],
   "metadata": {
    "collapsed": true
   }
  },
  {
   "cell_type": "code",
   "execution_count": 6,
   "source": [
    "parameters = initialize_parameters(2,2,1)\r\n",
    "print(\"W1 = \" + str(parameters[\"W1\"]))\r\n",
    "print(\"b1 = \" + str(parameters[\"b1\"]))\r\n",
    "print(\"W2 = \" + str(parameters[\"W2\"]))\r\n",
    "print(\"b2 = \" + str(parameters[\"b2\"]))"
   ],
   "outputs": [
    {
     "output_type": "stream",
     "name": "stdout",
     "text": [
      "W1 = [[ 0.01624345 -0.00611756]\n",
      " [-0.00528172 -0.01072969]]\n",
      "b1 = [[0.]\n",
      " [0.]]\n",
      "W2 = [[ 0.00865408 -0.02301539]]\n",
      "b2 = [[0.]]\n"
     ]
    }
   ],
   "metadata": {
    "scrolled": true
   }
  },
  {
   "cell_type": "markdown",
   "source": [
    "**Expected output**:\n",
    "       \n",
    "<table style=\"width:80%\">\n",
    "  <tr>\n",
    "    <td> **W1** </td>\n",
    "    <td> [[ 0.01624345 -0.00611756]\n",
    " [-0.00528172 -0.01072969]] </td> \n",
    "  </tr>\n",
    "\n",
    "  <tr>\n",
    "    <td> **b1**</td>\n",
    "    <td>[[ 0.]\n",
    " [ 0.]]</td> \n",
    "  </tr>\n",
    "  \n",
    "  <tr>\n",
    "    <td>**W2**</td>\n",
    "    <td> [[ 0.00865408 -0.02301539]]</td>\n",
    "  </tr>\n",
    "  \n",
    "  <tr>\n",
    "    <td> **b2** </td>\n",
    "    <td> [[ 0.]] </td> \n",
    "  </tr>\n",
    "  \n",
    "</table>"
   ],
   "metadata": {}
  },
  {
   "cell_type": "markdown",
   "source": [
    "### 3.2 - L-layer Neural Network\r\n",
    "\r\n",
    "The initialization for a deeper L-layer neural network is more complicated because there are many more weight matrices and bias vectors. When completing the `initialize_parameters_deep`, you should make sure that your dimensions match between each layer. Recall that $n^{[l]}$ is the number of units in layer $l$. Thus for example if the size of our input $X$ is $(12288, 209)$ (with $m=209$ examples) then:\r\n",
    "\r\n",
    "<table style=\"width:100%\">\r\n",
    "\r\n",
    "\r\n",
    "<tr>\r\n",
    "    <td>  </td> \r\n",
    "    <td> **Shape of W** </td> \r\n",
    "    <td> **Shape of b**  </td> \r\n",
    "    <td> **Activation** </td>\r\n",
    "    <td> **Shape of Activation** </td> \r\n",
    "<tr>\r\n",
    "\r\n",
    "<tr>\r\n",
    "    <td> **Layer 1** </td> \r\n",
    "    <td> $(n^{[1]},12288)$ </td> \r\n",
    "    <td> $(n^{[1]},1)$ </td> \r\n",
    "    <td> $Z^{[1]} = W^{[1]}  X + b^{[1]} $ </td> \r\n",
    "    \r\n",
    "    <td> $(n^{[1]},209)$ </td> \r\n",
    "<tr>\r\n",
    "\r\n",
    "<tr>\r\n",
    "    <td> **Layer 2** </td> \r\n",
    "    <td> $(n^{[2]}, n^{[1]})$  </td> \r\n",
    "    <td> $(n^{[2]},1)$ </td> \r\n",
    "    <td>$Z^{[2]} = W^{[2]} A^{[1]} + b^{[2]}$ </td> \r\n",
    "    <td> $(n^{[2]}, 209)$ </td> \r\n",
    "<tr>\r\n",
    "\r\n",
    "    <tr>\r\n",
    "    <td> $\\vdots$ </td> \r\n",
    "    <td> $\\vdots$  </td> \r\n",
    "    <td> $\\vdots$  </td> \r\n",
    "    <td> $\\vdots$</td> \r\n",
    "    <td> $\\vdots$  </td> \r\n",
    "<tr>\r\n",
    "\r\n",
    "   <tr>\r\n",
    "        <td> **Layer L-1** </td> \r\n",
    "        <td> $(n^{[L-1]}, n^{[L-2]})$ </td> \r\n",
    "        <td> $(n^{[L-1]}, 1)$  </td> \r\n",
    "        <td>$Z^{[L-1]} =  W^{[L-1]} A^{[L-2]} + b^{[L-1]}$ </td> \r\n",
    "        <td> $(n^{[L-1]}, 209)$ </td> \r\n",
    "    <tr>\r\n",
    "    \r\n",
    "    \r\n",
    "   <tr>\r\n",
    "        <td> **Layer L** </td> \r\n",
    "        <td> $(n^{[L]}, n^{[L-1]})$ </td> \r\n",
    "        <td> $(n^{[L]}, 1)$ </td>\r\n",
    "        <td> $Z^{[L]} =  W^{[L]} A^{[L-1]} + b^{[L]}$</td>\r\n",
    "        <td> $(n^{[L]}, 209)$  </td> \r\n",
    "    <tr>\r\n",
    "\r\n",
    "</table>\r\n",
    "\r\n",
    "Remember that when we compute $W X + b$ in python, it carries out broadcasting. For example, if: \r\n",
    "\r\n",
    "$$ W = \\begin{bmatrix}\r\n",
    "    j  & k  & l\\\\\r\n",
    "    m  & n & o \\\\\r\n",
    "    p  & q & r \r\n",
    "\\end{bmatrix}\\;\\;\\; X = \\begin{bmatrix}\r\n",
    "    a  & b  & c\\\\\r\n",
    "    d  & e & f \\\\\r\n",
    "    g  & h & i \r\n",
    "\\end{bmatrix} \\;\\;\\; b =\\begin{bmatrix}\r\n",
    "    s  \\\\\r\n",
    "    t  \\\\\r\n",
    "    u\r\n",
    "\\end{bmatrix}\\tag{2}$$\r\n",
    "\r\n",
    "Then $WX + b$ will be:\r\n",
    "\r\n",
    "$$ WX + b = \\begin{bmatrix}\r\n",
    "    (ja + kd + lg) + s  & (jb + ke + lh) + s  & (jc + kf + li)+ s\\\\\r\n",
    "    (ma + nd + og) + t & (mb + ne + oh) + t & (mc + nf + oi) + t\\\\\r\n",
    "    (pa + qd + rg) + u & (pb + qe + rh) + u & (pc + qf + ri)+ u\r\n",
    "\\end{bmatrix}\\tag{3}  $$"
   ],
   "metadata": {
    "collapsed": true
   }
  },
  {
   "cell_type": "markdown",
   "source": [
    "**Exercise**: Implement initialization for an L-layer Neural Network. \n",
    "\n",
    "**Instructions**:\n",
    "- The model's structure is *[LINEAR -> RELU] $ \\times$ (L-1) -> LINEAR -> SIGMOID*. I.e., it has $L-1$ layers using a ReLU activation function followed by an output layer with a sigmoid activation function.\n",
    "- Use random initialization for the weight matrices. Use `np.random.rand(shape) * 0.01`.\n",
    "- Use zeros initialization for the biases. Use `np.zeros(shape)`.\n",
    "- We will store $n^{[l]}$, the number of units in different layers, in a variable `layer_dims`. For example, the `layer_dims` for the \"Planar Data classification model\" from last week would have been [2,4,1]: There were two inputs, one hidden layer with 4 hidden units, and an output layer with 1 output unit. Thus means `W1`'s shape was (4,2), `b1` was (4,1), `W2` was (1,4) and `b2` was (1,1). Now you will generalize this to $L$ layers! \n",
    "- Here is the implementation for $L=1$ (one layer neural network). It should inspire you to implement the general case (L-layer neural network).\n",
    "```python\n",
    "    if L == 1:\n",
    "        parameters[\"W\" + str(L)] = np.random.randn(layer_dims[1], layer_dims[0]) * 0.01\n",
    "        parameters[\"b\" + str(L)] = np.zeros((layer_dims[1], 1))\n",
    "```"
   ],
   "metadata": {}
  },
  {
   "cell_type": "code",
   "execution_count": 11,
   "source": [
    "# GRADED FUNCTION: initialize_parameters_deep\r\n",
    "\r\n",
    "def initialize_parameters_deep(layer_dims):\r\n",
    "    \"\"\"\r\n",
    "    Arguments:\r\n",
    "    layer_dims -- python array (list) containing the dimensions of each layer in our network\r\n",
    "    \r\n",
    "    Returns:\r\n",
    "    parameters -- python dictionary containing your parameters \"W1\", \"b1\", ..., \"WL\", \"bL\":\r\n",
    "                    Wl -- weight matrix of shape (layer_dims[l], layer_dims[l-1])\r\n",
    "                    bl -- bias vector of shape (layer_dims[l], 1)\r\n",
    "    \"\"\"\r\n",
    "    \r\n",
    "    np.random.seed(3)\r\n",
    "    parameters = {}\r\n",
    "    L = len(layer_dims)            # number of layers in the network\r\n",
    "\r\n",
    "    for l in range(1, L):\r\n",
    "        ### START CODE HERE ### (≈ 2 lines of code)\r\n",
    "        parameters['W' + str(l)] = np.random.randn(layer_dims[l],layer_dims[l-1]) * 0.01\r\n",
    "        parameters['b' + str(l)] = np.zeros((layer_dims[l], 1))\r\n",
    "        ### END CODE HERE ###\r\n",
    "        \r\n",
    "        assert(parameters['W' + str(l)].shape == (layer_dims[l], layer_dims[l-1]))\r\n",
    "        assert(parameters['b' + str(l)].shape == (layer_dims[l], 1))\r\n",
    "\r\n",
    "        \r\n",
    "    return parameters"
   ],
   "outputs": [],
   "metadata": {}
  },
  {
   "cell_type": "code",
   "execution_count": 12,
   "source": [
    "parameters = initialize_parameters_deep([5,4,3])\r\n",
    "print(\"W1 = \" + str(parameters[\"W1\"]))\r\n",
    "print(\"b1 = \" + str(parameters[\"b1\"]))\r\n",
    "print(\"W2 = \" + str(parameters[\"W2\"]))\r\n",
    "print(\"b2 = \" + str(parameters[\"b2\"]))"
   ],
   "outputs": [
    {
     "output_type": "stream",
     "name": "stdout",
     "text": [
      "W1 = [[ 0.01788628  0.0043651   0.00096497 -0.01863493 -0.00277388]\n",
      " [-0.00354759 -0.00082741 -0.00627001 -0.00043818 -0.00477218]\n",
      " [-0.01313865  0.00884622  0.00881318  0.01709573  0.00050034]\n",
      " [-0.00404677 -0.0054536  -0.01546477  0.00982367 -0.01101068]]\n",
      "b1 = [[0.]\n",
      " [0.]\n",
      " [0.]\n",
      " [0.]]\n",
      "W2 = [[-0.01185047 -0.0020565   0.01486148  0.00236716]\n",
      " [-0.01023785 -0.00712993  0.00625245 -0.00160513]\n",
      " [-0.00768836 -0.00230031  0.00745056  0.01976111]]\n",
      "b2 = [[0.]\n",
      " [0.]\n",
      " [0.]]\n"
     ]
    }
   ],
   "metadata": {}
  },
  {
   "cell_type": "markdown",
   "source": [
    "**Expected output**:\n",
    "       \n",
    "<table style=\"width:80%\">\n",
    "  <tr>\n",
    "    <td> **W1** </td>\n",
    "    <td>[[ 0.01788628  0.0043651   0.00096497 -0.01863493 -0.00277388]\n",
    " [-0.00354759 -0.00082741 -0.00627001 -0.00043818 -0.00477218]\n",
    " [-0.01313865  0.00884622  0.00881318  0.01709573  0.00050034]\n",
    " [-0.00404677 -0.0054536  -0.01546477  0.00982367 -0.01101068]]</td> \n",
    "  </tr>\n",
    "  \n",
    "  <tr>\n",
    "    <td>**b1** </td>\n",
    "    <td>[[ 0.]\n",
    " [ 0.]\n",
    " [ 0.]\n",
    " [ 0.]]</td> \n",
    "  </tr>\n",
    "  \n",
    "  <tr>\n",
    "    <td>**W2** </td>\n",
    "    <td>[[-0.01185047 -0.0020565   0.01486148  0.00236716]\n",
    " [-0.01023785 -0.00712993  0.00625245 -0.00160513]\n",
    " [-0.00768836 -0.00230031  0.00745056  0.01976111]]</td> \n",
    "  </tr>\n",
    "  \n",
    "  <tr>\n",
    "    <td>**b2** </td>\n",
    "    <td>[[ 0.]\n",
    " [ 0.]\n",
    " [ 0.]]</td> \n",
    "  </tr>\n",
    "  \n",
    "</table>"
   ],
   "metadata": {}
  },
  {
   "cell_type": "markdown",
   "source": [
    "## 4 - Forward propagation module\n",
    "\n",
    "### 4.1 - Linear Forward \n",
    "Now that you have initialized your parameters, you will do the forward propagation module. You will start by implementing some basic functions that you will use later when implementing the model. You will complete three functions in this order:\n",
    "\n",
    "- LINEAR\n",
    "- LINEAR -> ACTIVATION where ACTIVATION will be either ReLU or Sigmoid. \n",
    "- [LINEAR -> RELU] $\\times$ (L-1) -> LINEAR -> SIGMOID (whole model)\n",
    "\n",
    "The linear forward module (vectorized over all the examples) computes the following equations:\n",
    "\n",
    "$$Z^{[l]} = W^{[l]}A^{[l-1]} +b^{[l]}\\tag{4}$$\n",
    "\n",
    "where $A^{[0]} = X$. \n",
    "\n",
    "**Exercise**: Build the linear part of forward propagation.\n",
    "\n",
    "**Reminder**:\n",
    "The mathematical representation of this unit is $Z^{[l]} = W^{[l]}A^{[l-1]} +b^{[l]}$. You may also find `np.dot()` useful. If your dimensions don't match, printing `W.shape` may help."
   ],
   "metadata": {}
  },
  {
   "cell_type": "code",
   "execution_count": 15,
   "source": [
    "# GRADED FUNCTION: linear_forward\r\n",
    "\r\n",
    "def linear_forward(A, W, b):\r\n",
    "    \"\"\"\r\n",
    "    Implement the linear part of a layer's forward propagation.\r\n",
    "\r\n",
    "    Arguments:\r\n",
    "    A -- activations from previous layer (or input data): (size of previous layer, number of examples)\r\n",
    "    W -- weights matrix: numpy array of shape (size of current layer, size of previous layer)\r\n",
    "    b -- bias vector, numpy array of shape (size of the current layer, 1)\r\n",
    "\r\n",
    "    Returns:\r\n",
    "    Z -- the input of the activation function, also called pre-activation parameter \r\n",
    "    cache -- a python dictionary containing \"A\", \"W\" and \"b\" ; stored for computing the backward pass efficiently\r\n",
    "    \"\"\"\r\n",
    "    \r\n",
    "    ### START CODE HERE ### (≈ 1 line of code)\r\n",
    "    Z = np.dot(W, A) + b\r\n",
    "    ### END CODE HERE ###\r\n",
    "    \r\n",
    "    assert(Z.shape == (W.shape[0], A.shape[1]))\r\n",
    "    cache = (A, W, b)\r\n",
    "    \r\n",
    "    return Z, cache"
   ],
   "outputs": [],
   "metadata": {}
  },
  {
   "cell_type": "code",
   "execution_count": 16,
   "source": [
    "A, W, b = linear_forward_test_case()\r\n",
    "\r\n",
    "Z, linear_cache = linear_forward(A, W, b)\r\n",
    "print(\"Z = \" + str(Z))"
   ],
   "outputs": [
    {
     "output_type": "stream",
     "name": "stdout",
     "text": [
      "Z = [[ 3.26295337 -1.23429987]]\n"
     ]
    }
   ],
   "metadata": {}
  },
  {
   "cell_type": "markdown",
   "source": [
    "**Expected output**:\n",
    "\n",
    "<table style=\"width:35%\">\n",
    "  \n",
    "  <tr>\n",
    "    <td> **Z** </td>\n",
    "    <td> [[ 3.26295337 -1.23429987]] </td> \n",
    "  </tr>\n",
    "  \n",
    "</table>"
   ],
   "metadata": {}
  },
  {
   "cell_type": "markdown",
   "source": [
    "### 4.2 - Linear-Activation Forward\n",
    "\n",
    "In this notebook, you will use two activation functions:\n",
    "\n",
    "- **Sigmoid**: $\\sigma(Z) = \\sigma(W A + b) = \\frac{1}{ 1 + e^{-(W A + b)}}$. We have provided you with the `sigmoid` function. This function returns **two** items: the activation value \"`a`\" and a \"`cache`\" that contains \"`Z`\" (it's what we will feed in to the corresponding backward function). To use it you could just call: \n",
    "``` python\n",
    "A, activation_cache = sigmoid(Z)\n",
    "```\n",
    "\n",
    "- **ReLU**: The mathematical formula for ReLu is $A = RELU(Z) = max(0, Z)$. We have provided you with the `relu` function. This function returns **two** items: the activation value \"`A`\" and a \"`cache`\" that contains \"`Z`\" (it's what we will feed in to the corresponding backward function). To use it you could just call:\n",
    "``` python\n",
    "A, activation_cache = relu(Z)\n",
    "```"
   ],
   "metadata": {}
  },
  {
   "cell_type": "markdown",
   "source": [
    "For more convenience, you are going to group two functions (Linear and Activation) into one function (LINEAR->ACTIVATION). Hence, you will implement a function that does the LINEAR forward step followed by an ACTIVATION forward step.\n",
    "\n",
    "**Exercise**: Implement the forward propagation of the *LINEAR->ACTIVATION* layer. Mathematical relation is: $A^{[l]} = g(Z^{[l]}) = g(W^{[l]}A^{[l-1]} +b^{[l]})$ where the activation \"g\" can be sigmoid() or relu(). Use linear_forward() and the correct activation function."
   ],
   "metadata": {}
  },
  {
   "cell_type": "code",
   "execution_count": 17,
   "source": [
    "# GRADED FUNCTION: linear_activation_forward\r\n",
    "\r\n",
    "def linear_activation_forward(A_prev, W, b, activation):\r\n",
    "    \"\"\"\r\n",
    "    Implement the forward propagation for the LINEAR->ACTIVATION layer\r\n",
    "\r\n",
    "    Arguments:\r\n",
    "    A_prev -- activations from previous layer (or input data): (size of previous layer, number of examples)\r\n",
    "    W -- weights matrix: numpy array of shape (size of current layer, size of previous layer)\r\n",
    "    b -- bias vector, numpy array of shape (size of the current layer, 1)\r\n",
    "    activation -- the activation to be used in this layer, stored as a text string: \"sigmoid\" or \"relu\"\r\n",
    "\r\n",
    "    Returns:\r\n",
    "    A -- the output of the activation function, also called the post-activation value \r\n",
    "    cache -- a python dictionary containing \"linear_cache\" and \"activation_cache\";\r\n",
    "             stored for computing the backward pass efficiently\r\n",
    "    \"\"\"\r\n",
    "    \r\n",
    "    if activation == \"sigmoid\":\r\n",
    "        # Inputs: \"A_prev, W, b\". Outputs: \"A, activation_cache\".\r\n",
    "        ### START CODE HERE ### (≈ 2 lines of code)\r\n",
    "        Z, linear_cache = linear_forward(A_prev, W, b)\r\n",
    "        A, activation_cache = sigmoid(Z)\r\n",
    "        ### END CODE HERE ###\r\n",
    "    \r\n",
    "    elif activation == \"relu\":\r\n",
    "        # Inputs: \"A_prev, W, b\". Outputs: \"A, activation_cache\".\r\n",
    "        ### START CODE HERE ### (≈ 2 lines of code)\r\n",
    "        Z, linear_cache = linear_forward(A_prev, W, b)\r\n",
    "        A, activation_cache = relu(Z)\r\n",
    "        ### END CODE HERE ###\r\n",
    "    \r\n",
    "    assert (A.shape == (W.shape[0], A_prev.shape[1]))\r\n",
    "    cache = (linear_cache, activation_cache)\r\n",
    "\r\n",
    "    return A, cache"
   ],
   "outputs": [],
   "metadata": {}
  },
  {
   "cell_type": "code",
   "execution_count": 18,
   "source": [
    "A_prev, W, b = linear_activation_forward_test_case()\r\n",
    "\r\n",
    "A, linear_activation_cache = linear_activation_forward(A_prev, W, b, activation = \"sigmoid\")\r\n",
    "print(\"With sigmoid: A = \" + str(A))\r\n",
    "\r\n",
    "A, linear_activation_cache = linear_activation_forward(A_prev, W, b, activation = \"relu\")\r\n",
    "print(\"With ReLU: A = \" + str(A))"
   ],
   "outputs": [
    {
     "output_type": "stream",
     "name": "stdout",
     "text": [
      "With sigmoid: A = [[0.96890023 0.11013289]]\n",
      "With ReLU: A = [[3.43896131 0.        ]]\n"
     ]
    }
   ],
   "metadata": {}
  },
  {
   "cell_type": "markdown",
   "source": [
    "**Expected output**:\n",
    "       \n",
    "<table style=\"width:35%\">\n",
    "  <tr>\n",
    "    <td> **With sigmoid: A ** </td>\n",
    "    <td > [[ 0.96890023  0.11013289]]</td> \n",
    "  </tr>\n",
    "  <tr>\n",
    "    <td> **With ReLU: A ** </td>\n",
    "    <td > [[ 3.43896131  0.        ]]</td> \n",
    "  </tr>\n",
    "</table>\n"
   ],
   "metadata": {}
  },
  {
   "cell_type": "markdown",
   "source": [
    "**Note**: In deep learning, the \"[LINEAR->ACTIVATION]\" computation is counted as a single layer in the neural network, not two layers. "
   ],
   "metadata": {}
  },
  {
   "cell_type": "markdown",
   "source": [
    "### d) L-Layer Model \n",
    "\n",
    "For even more convenience when implementing the $L$-layer Neural Net, you will need a function that replicates the previous one (`linear_activation_forward` with RELU) $L-1$ times, then follows that with one `linear_activation_forward` with SIGMOID.\n",
    "\n",
    "<img src=\"images/model_architecture_kiank.png\" style=\"width:600px;height:300px;\">\n",
    "<caption><center> **Figure 2** : *[LINEAR -> RELU] $\\times$ (L-1) -> LINEAR -> SIGMOID* model</center></caption><br>\n",
    "\n",
    "**Exercise**: Implement the forward propagation of the above model.\n",
    "\n",
    "**Instruction**: In the code below, the variable `AL` will denote $A^{[L]} = \\sigma(Z^{[L]}) = \\sigma(W^{[L]} A^{[L-1]} + b^{[L]})$. (This is sometimes also called `Yhat`, i.e., this is $\\hat{Y}$.) \n",
    "\n",
    "**Tips**:\n",
    "- Use the functions you had previously written \n",
    "- Use a for loop to replicate [LINEAR->RELU] (L-1) times\n",
    "- Don't forget to keep track of the caches in the \"caches\" list. To add a new value `c` to a `list`, you can use `list.append(c)`."
   ],
   "metadata": {}
  },
  {
   "cell_type": "code",
   "execution_count": 25,
   "source": [
    "# GRADED FUNCTION: L_model_forward\r\n",
    "\r\n",
    "def L_model_forward(X, parameters):\r\n",
    "    \"\"\"\r\n",
    "    Implement forward propagation for the [LINEAR->RELU]*(L-1)->LINEAR->SIGMOID computation\r\n",
    "    \r\n",
    "    Arguments:\r\n",
    "    X -- data, numpy array of shape (input size, number of examples)\r\n",
    "    parameters -- output of initialize_parameters_deep()\r\n",
    "    \r\n",
    "    Returns:\r\n",
    "    AL -- last post-activation value\r\n",
    "    caches -- list of caches containing:\r\n",
    "                every cache of linear_relu_forward() (there are L-1 of them, indexed from 0 to L-2)\r\n",
    "                the cache of linear_sigmoid_forward() (there is one, indexed L-1)\r\n",
    "    \"\"\"\r\n",
    "\r\n",
    "    caches = []\r\n",
    "    A = X\r\n",
    "    L = len(parameters) // 2                  # number of layers in the neural network\r\n",
    "    \r\n",
    "    # Implement [LINEAR -> RELU]*(L-1). Add \"cache\" to the \"caches\" list.\r\n",
    "    for l in range(1, L):\r\n",
    "        A_prev = A \r\n",
    "        ### START CODE HERE ### (≈ 2 lines of code)\r\n",
    "        A, cache = linear_activation_forward(A_prev, parameters[\"W\"+str(l)], parameters[\"b\"+str(l)], \"relu\")\r\n",
    "        caches.append(cache)\r\n",
    "        ### END CODE HERE ###\r\n",
    "    \r\n",
    "    # Implement LINEAR -> SIGMOID. Add \"cache\" to the \"caches\" list.\r\n",
    "    ### START CODE HERE ### (≈ 2 lines of code)\r\n",
    "    AL, cache = linear_activation_forward(A, parameters[\"W\"+str(L)], parameters[\"b\"+str(L)], \"sigmoid\")\r\n",
    "    caches.append(cache)\r\n",
    "    ### END CODE HERE ###\r\n",
    "    \r\n",
    "    assert(AL.shape == (1,X.shape[1]))\r\n",
    "            \r\n",
    "    return AL, caches"
   ],
   "outputs": [],
   "metadata": {}
  },
  {
   "cell_type": "code",
   "execution_count": 37,
   "source": [
    "X, parameters = L_model_forward_test_case()\r\n",
    "AL, caches = L_model_forward(X, parameters)\r\n",
    "print(\"AL = \" + str(AL))\r\n",
    "print(\"Length of caches list = \" + str(len(caches)))"
   ],
   "outputs": [
    {
     "output_type": "stream",
     "name": "stdout",
     "text": [
      "AL = [[0.17007265 0.2524272 ]]\n",
      "Length of caches list = 2\n"
     ]
    }
   ],
   "metadata": {}
  },
  {
   "cell_type": "markdown",
   "source": [
    "<table style=\"width:40%\">\n",
    "  <tr>\n",
    "    <td> **AL** </td>\n",
    "    <td > [[ 0.17007265  0.2524272 ]]</td> \n",
    "  </tr>\n",
    "  <tr>\n",
    "    <td> **Length of caches list ** </td>\n",
    "    <td > 2</td> \n",
    "  </tr>\n",
    "</table>"
   ],
   "metadata": {}
  },
  {
   "cell_type": "markdown",
   "source": [
    "Great! Now you have a full forward propagation that takes the input X and outputs a row vector $A^{[L]}$ containing your predictions. It also records all intermediate values in \"caches\". Using $A^{[L]}$, you can compute the cost of your predictions."
   ],
   "metadata": {}
  },
  {
   "cell_type": "markdown",
   "source": [
    "## 5 - Cost function\r\n",
    "\r\n",
    "Now you will implement forward and backward propagation. You need to compute the cost, because you want to check if your model is actually learning.\r\n",
    "\r\n",
    "**Exercise**: Compute the cross-entropy cost $J$, using the following formula: $$-\\frac{1}{m} \\sum\\limits_{i = 1}^{m} (y^{(i)}\\log\\left(a^{[L] (i)}\\right) + (1-y^{(i)})\\log\\left(1- a^{[L](i)}\\right)) \\tag{7}$$\r\n"
   ],
   "metadata": {}
  },
  {
   "cell_type": "code",
   "execution_count": 38,
   "source": [
    "# GRADED FUNCTION: compute_cost\r\n",
    "\r\n",
    "def compute_cost(AL, Y):\r\n",
    "    \"\"\"\r\n",
    "    Implement the cost function defined by equation (7).\r\n",
    "\r\n",
    "    Arguments:\r\n",
    "    AL -- probability vector corresponding to your label predictions, shape (1, number of examples)\r\n",
    "    Y -- true \"label\" vector (for example: containing 0 if non-cat, 1 if cat), shape (1, number of examples)\r\n",
    "\r\n",
    "    Returns:\r\n",
    "    cost -- cross-entropy cost\r\n",
    "    \"\"\"\r\n",
    "    \r\n",
    "    m = Y.shape[1]\r\n",
    "\r\n",
    "    # Compute loss from aL and y.\r\n",
    "    ### START CODE HERE ### (≈ 1 lines of code)\r\n",
    "    cost = -1/m * np.sum( (Y * np.log(AL)  + (1 - Y) * np.log(1-AL)) )\r\n",
    "    ### END CODE HERE ###\r\n",
    "    \r\n",
    "    cost = np.squeeze(cost)      # To make sure your cost's shape is what we expect (e.g. this turns [[17]] into 17).\r\n",
    "    assert(cost.shape == ())\r\n",
    "    \r\n",
    "    return cost"
   ],
   "outputs": [],
   "metadata": {}
  },
  {
   "cell_type": "code",
   "execution_count": 39,
   "source": [
    "Y, AL = compute_cost_test_case()\r\n",
    "\r\n",
    "print(\"cost = \" + str(compute_cost(AL, Y)))"
   ],
   "outputs": [
    {
     "output_type": "stream",
     "name": "stdout",
     "text": [
      "cost = 0.41493159961539694\n"
     ]
    }
   ],
   "metadata": {}
  },
  {
   "cell_type": "markdown",
   "source": [
    "**Expected Output**:\r\n",
    "\r\n",
    "<table>\r\n",
    "\r\n",
    "<tr>\r\n",
    "    <td>**cost** </td>\r\n",
    "    <td> 0.41493159961539694</td> \r\n",
    "    </tr>\r\n",
    "</table>"
   ],
   "metadata": {}
  },
  {
   "cell_type": "markdown",
   "source": [
    "## 6 - Backward propagation module\n",
    "\n",
    "Just like with forward propagation, you will implement helper functions for backpropagation. Remember that back propagation is used to calculate the gradient of the loss function with respect to the parameters. \n",
    "\n",
    "**Reminder**: \n",
    "<img src=\"images/backprop_kiank.png\" style=\"width:650px;height:250px;\">\n",
    "<caption><center> **Figure 3** : Forward and Backward propagation for *LINEAR->RELU->LINEAR->SIGMOID* <br> *The purple blocks represent the forward propagation, and the red blocks represent the backward propagation.*  </center></caption>\n",
    "\n",
    "<!-- \n",
    "For those of you who are expert in calculus (you don't need to be to do this assignment), the chain rule of calculus can be used to derive the derivative of the loss $\\mathcal{L}$ with respect to $z^{[1]}$ in a 2-layer network as follows:\n",
    "\n",
    "$$\\frac{d \\mathcal{L}(a^{[2]},y)}{{dz^{[1]}}} = \\frac{d\\mathcal{L}(a^{[2]},y)}{{da^{[2]}}}\\frac{{da^{[2]}}}{{dz^{[2]}}}\\frac{{dz^{[2]}}}{{da^{[1]}}}\\frac{{da^{[1]}}}{{dz^{[1]}}} \\tag{8} $$\n",
    "\n",
    "In order to calculate the gradient $dW^{[1]} = \\frac{\\partial L}{\\partial W^{[1]}}$, you use the previous chain rule and you do $dW^{[1]} = dz^{[1]} \\times \\frac{\\partial z^{[1]} }{\\partial W^{[1]}}$. During the backpropagation, at each step you multiply your current gradient by the gradient corresponding to the specific layer to get the gradient you wanted.\n",
    "\n",
    "Equivalently, in order to calculate the gradient $db^{[1]} = \\frac{\\partial L}{\\partial b^{[1]}}$, you use the previous chain rule and you do $db^{[1]} = dz^{[1]} \\times \\frac{\\partial z^{[1]} }{\\partial b^{[1]}}$.\n",
    "\n",
    "This is why we talk about **backpropagation**.\n",
    "!-->\n",
    "\n",
    "Now, similar to forward propagation, you are going to build the backward propagation in three steps:\n",
    "- LINEAR backward\n",
    "- LINEAR -> ACTIVATION backward where ACTIVATION computes the derivative of either the ReLU or sigmoid activation\n",
    "- [LINEAR -> RELU] $\\times$ (L-1) -> LINEAR -> SIGMOID backward (whole model)"
   ],
   "metadata": {}
  },
  {
   "cell_type": "markdown",
   "source": [
    "### 6.1 - Linear backward\n",
    "\n",
    "For layer $l$, the linear part is: $Z^{[l]} = W^{[l]} A^{[l-1]} + b^{[l]}$ (followed by an activation).\n",
    "\n",
    "Suppose you have already calculated the derivative $dZ^{[l]} = \\frac{\\partial \\mathcal{L} }{\\partial Z^{[l]}}$. You want to get $(dW^{[l]}, db^{[l]} dA^{[l-1]})$.\n",
    "\n",
    "<img src=\"images/linearback_kiank.png\" style=\"width:250px;height:300px;\">\n",
    "<caption><center> **Figure 4** </center></caption>\n",
    "\n",
    "The three outputs $(dW^{[l]}, db^{[l]}, dA^{[l]})$ are computed using the input $dZ^{[l]}$.Here are the formulas you need:\n",
    "$$ dW^{[l]} = \\frac{\\partial \\mathcal{L} }{\\partial W^{[l]}} = \\frac{1}{m} dZ^{[l]} A^{[l-1] T} \\tag{8}$$\n",
    "$$ db^{[l]} = \\frac{\\partial \\mathcal{L} }{\\partial b^{[l]}} = \\frac{1}{m} \\sum_{i = 1}^{m} dZ^{[l](i)}\\tag{9}$$\n",
    "$$ dA^{[l-1]} = \\frac{\\partial \\mathcal{L} }{\\partial A^{[l-1]}} = W^{[l] T} dZ^{[l]} \\tag{10}$$\n"
   ],
   "metadata": {}
  },
  {
   "cell_type": "markdown",
   "source": [
    "**Exercise**: Use the 3 formulas above to implement linear_backward()."
   ],
   "metadata": {}
  },
  {
   "cell_type": "code",
   "execution_count": 40,
   "source": [
    "# GRADED FUNCTION: linear_backward\r\n",
    "\r\n",
    "def linear_backward(dZ, cache):\r\n",
    "    \"\"\"\r\n",
    "    Implement the linear portion of backward propagation for a single layer (layer l)\r\n",
    "\r\n",
    "    Arguments:\r\n",
    "    dZ -- Gradient of the cost with respect to the linear output (of current layer l)\r\n",
    "    cache -- tuple of values (A_prev, W, b) coming from the forward propagation in the current layer\r\n",
    "\r\n",
    "    Returns:\r\n",
    "    dA_prev -- Gradient of the cost with respect to the activation (of the previous layer l-1), same shape as A_prev\r\n",
    "    dW -- Gradient of the cost with respect to W (current layer l), same shape as W\r\n",
    "    db -- Gradient of the cost with respect to b (current layer l), same shape as b\r\n",
    "    \"\"\"\r\n",
    "    A_prev, W, b = cache\r\n",
    "    m = A_prev.shape[1]\r\n",
    "    \r\n",
    "    ### START CODE HERE ### (≈ 3 lines of code)\r\n",
    "    dW = 1/m * np.dot(dZ, A_prev.T)\r\n",
    "    db = 1/m * np.sum(dZ, axis=1, keepdims=True)\r\n",
    "    dA_prev = np.dot(W.T, dZ)\r\n",
    "    ### END CODE HERE ###\r\n",
    "    \r\n",
    "    assert (dA_prev.shape == A_prev.shape)\r\n",
    "    assert (dW.shape == W.shape)\r\n",
    "    assert (db.shape == b.shape)\r\n",
    "    \r\n",
    "    return dA_prev, dW, db"
   ],
   "outputs": [],
   "metadata": {
    "collapsed": true
   }
  },
  {
   "cell_type": "code",
   "execution_count": 41,
   "source": [
    "# Set up some test inputs\r\n",
    "dZ, linear_cache = linear_backward_test_case()\r\n",
    "\r\n",
    "dA_prev, dW, db = linear_backward(dZ, linear_cache)\r\n",
    "print (\"dA_prev = \"+ str(dA_prev))\r\n",
    "print (\"dW = \" + str(dW))\r\n",
    "print (\"db = \" + str(db))"
   ],
   "outputs": [
    {
     "output_type": "stream",
     "name": "stdout",
     "text": [
      "dA_prev = [[ 0.51822968 -0.19517421]\n",
      " [-0.40506361  0.15255393]\n",
      " [ 2.37496825 -0.89445391]]\n",
      "dW = [[-0.10076895  1.40685096  1.64992505]]\n",
      "db = [[0.50629448]]\n"
     ]
    }
   ],
   "metadata": {}
  },
  {
   "cell_type": "markdown",
   "source": [
    "**Expected Output**: \r\n",
    "\r\n",
    "<table style=\"width:90%\">\r\n",
    "  <tr>\r\n",
    "    <td> **dA_prev** </td>\r\n",
    "      <td > [[ 0.51822968 -0.19517421]\r\n",
    "            [-0.40506361  0.15255393]\r\n",
    "            [ 2.37496825 -0.89445391]] \r\n",
    "          </td> \r\n",
    "  </tr> \r\n",
    "  \r\n",
    "  <tr>\r\n",
    "      <td> **dW** </td>\r\n",
    "      <td > [[-0.10076895  1.40685096  1.64992505]] </td> \r\n",
    "  </tr> \r\n",
    "\r\n",
    "  <tr>\r\n",
    "      <td> **db** </td>\r\n",
    "      <td> [[ 0.50629448]] </td> \r\n",
    "  </tr> \r\n",
    "    \r\n",
    "</table>\r\n",
    "\r\n"
   ],
   "metadata": {}
  },
  {
   "cell_type": "markdown",
   "source": [
    "### 6.2 - Linear-Activation backward\n",
    "\n",
    "Next, you will create a function that merges the two helper functions: **`linear_backward`** and the backward step for the activation **`linear_activation_backward`**. \n",
    "\n",
    "To help you implement `linear_activation_backward`, we provided two backward functions:\n",
    "- **`sigmoid_backward`**: Implements the backward propagation for SIGMOID unit. You can call it as follows:\n",
    "\n",
    "```python\n",
    "dZ = sigmoid_backward(dA, activation_cache)\n",
    "```\n",
    "\n",
    "- **`relu_backward`**: Implements the backward propagation for RELU unit. You can call it as follows:\n",
    "\n",
    "```python\n",
    "dZ = relu_backward(dA, activation_cache)\n",
    "```\n",
    "\n",
    "If $g(.)$ is the activation function, \n",
    "`sigmoid_backward` and `relu_backward` compute $$dZ^{[l]} = dA^{[l]} * g'(Z^{[l]}) \\tag{11}$$.  \n",
    "\n",
    "**Exercise**: Implement the backpropagation for the *LINEAR->ACTIVATION* layer."
   ],
   "metadata": {}
  },
  {
   "cell_type": "code",
   "execution_count": 42,
   "source": [
    "# GRADED FUNCTION: linear_activation_backward\r\n",
    "\r\n",
    "def linear_activation_backward(dA, cache, activation):\r\n",
    "    \"\"\"\r\n",
    "    Implement the backward propagation for the LINEAR->ACTIVATION layer.\r\n",
    "    \r\n",
    "    Arguments:\r\n",
    "    dA -- post-activation gradient for current layer l \r\n",
    "    cache -- tuple of values (linear_cache, activation_cache) we store for computing backward propagation efficiently\r\n",
    "    activation -- the activation to be used in this layer, stored as a text string: \"sigmoid\" or \"relu\"\r\n",
    "    \r\n",
    "    Returns:\r\n",
    "    dA_prev -- Gradient of the cost with respect to the activation (of the previous layer l-1), same shape as A_prev\r\n",
    "    dW -- Gradient of the cost with respect to W (current layer l), same shape as W\r\n",
    "    db -- Gradient of the cost with respect to b (current layer l), same shape as b\r\n",
    "    \"\"\"\r\n",
    "    linear_cache, activation_cache = cache\r\n",
    "    \r\n",
    "    if activation == \"relu\":\r\n",
    "        ### START CODE HERE ### (≈ 2 lines of code)\r\n",
    "        dZ = relu_backward(dA, activation_cache)\r\n",
    "        dA_prev, dW, db = linear_backward(dZ, linear_cache)\r\n",
    "        ### END CODE HERE ###\r\n",
    "        \r\n",
    "    elif activation == \"sigmoid\":\r\n",
    "        ### START CODE HERE ### (≈ 2 lines of code)\r\n",
    "        dZ = sigmoid_backward(dA, activation_cache)\r\n",
    "        dA_prev, dW, db = linear_backward(dZ, linear_cache)\r\n",
    "        ### END CODE HERE ###\r\n",
    "    \r\n",
    "    return dA_prev, dW, db"
   ],
   "outputs": [],
   "metadata": {
    "collapsed": true
   }
  },
  {
   "cell_type": "code",
   "execution_count": 50,
   "source": [
    "AL, linear_activation_cache = linear_activation_backward_test_case()\r\n",
    "\r\n",
    "dA_prev, dW, db = linear_activation_backward(AL, linear_activation_cache, activation = \"sigmoid\")\r\n",
    "print (\"sigmoid:\")\r\n",
    "print (\"dA_prev = \"+ str(dA_prev))\r\n",
    "print (\"dW = \" + str(dW))\r\n",
    "print (\"db = \" + str(db) + \"\\n\")\r\n",
    "\r\n",
    "dA_prev, dW, db = linear_activation_backward(AL, linear_activation_cache, activation = \"relu\")\r\n",
    "print (\"relu:\")\r\n",
    "print (\"dA_prev = \"+ str(dA_prev))\r\n",
    "print (\"dW = \" + str(dW))\r\n",
    "print (\"db = \" + str(db))"
   ],
   "outputs": [
    {
     "output_type": "stream",
     "name": "stdout",
     "text": [
      "sigmoid:\n",
      "dA_prev = [[ 0.11017994  0.01105339]\n",
      " [ 0.09466817  0.00949723]\n",
      " [-0.05743092 -0.00576154]]\n",
      "dW = [[ 0.10266786  0.09778551 -0.01968084]]\n",
      "db = [[-0.05729622]]\n",
      "\n",
      "relu:\n",
      "dA_prev = [[ 0.44090989  0.        ]\n",
      " [ 0.37883606  0.        ]\n",
      " [-0.2298228   0.        ]]\n",
      "dW = [[ 0.44513824  0.37371418 -0.10478989]]\n",
      "db = [[-0.20837892]]\n"
     ]
    }
   ],
   "metadata": {}
  },
  {
   "cell_type": "markdown",
   "source": [
    "**Expected output with sigmoid:**\r\n",
    "\r\n",
    "<table style=\"width:100%\">\r\n",
    "  <tr>\r\n",
    "    <td > dA_prev </td> \r\n",
    "           <td >[[ 0.11017994  0.01105339]\r\n",
    " [ 0.09466817  0.00949723]\r\n",
    " [-0.05743092 -0.00576154]] </td> \r\n",
    "\r\n",
    "  </tr> \r\n",
    "  \r\n",
    "  <tr>\r\n",
    "    <td > dW </td> \r\n",
    "           <td > [[ 0.10266786  0.09778551 -0.01968084]] </td> \r\n",
    "  </tr> \r\n",
    "  \r\n",
    "  <tr>\r\n",
    "    <td > db </td> \r\n",
    "           <td > [[-0.05729622]] </td> \r\n",
    "  </tr> \r\n",
    "</table>\r\n",
    "\r\n"
   ],
   "metadata": {}
  },
  {
   "cell_type": "markdown",
   "source": [
    "**Expected output with relu**\r\n",
    "\r\n",
    "<table style=\"width:100%\">\r\n",
    "  <tr>\r\n",
    "    <td > dA_prev </td> \r\n",
    "           <td > [[ 0.44090989  0.        ]\r\n",
    " [ 0.37883606  0.        ]\r\n",
    " [-0.2298228   0.        ]] </td> \r\n",
    "\r\n",
    "  </tr> \r\n",
    "  \r\n",
    "  <tr>\r\n",
    "    <td > dW </td> \r\n",
    "           <td > [[ 0.44513824  0.37371418 -0.10478989]] </td> \r\n",
    "  </tr> \r\n",
    "  \r\n",
    "  <tr>\r\n",
    "    <td > db </td> \r\n",
    "           <td > [[-0.20837892]] </td> \r\n",
    "  </tr> \r\n",
    "</table>\r\n",
    "\r\n"
   ],
   "metadata": {}
  },
  {
   "cell_type": "markdown",
   "source": [
    "### 6.3 - L-Model Backward \n",
    "\n",
    "Now you will implement the backward function for the whole network. Recall that when you implemented the `L_model_forward` function, at each iteration, you stored a cache which contains (X,W,b, and z). In the back propagation module, you will use those variables to compute the gradients. Therefore, in the `L_model_backward` function, you will iterate through all the hidden layers backward, starting from layer $L$. On each step, you will use the cached values for layer $l$ to backpropagate through layer $l$. Figure 5 below shows the backward pass. \n",
    "\n",
    "\n",
    "<img src=\"images/mn_backward.png\" style=\"width:450px;height:300px;\">\n",
    "<caption><center>  **Figure 5** : Backward pass  </center></caption>\n",
    "\n",
    "** Initializing backpropagation**:\n",
    "To backpropagate through this network, we know that the output is, \n",
    "$A^{[L]} = \\sigma(Z^{[L]})$. Your code thus needs to compute `dAL` $= \\frac{\\partial \\mathcal{L}}{\\partial A^{[L]}}$.\n",
    "To do so, use this formula (derived using calculus which you don't need in-depth knowledge of):\n",
    "```python\n",
    "dAL = - (np.divide(Y, AL) - np.divide(1 - Y, 1 - AL)) # derivative of cost with respect to AL\n",
    "```\n",
    "\n",
    "You can then use this post-activation gradient `dAL` to keep going backward. As seen in Figure 5, you can now feed in `dAL` into the LINEAR->SIGMOID backward function you implemented (which will use the cached values stored by the L_model_forward function). After that, you will have to use a `for` loop to iterate through all the other layers using the LINEAR->RELU backward function. You should store each dA, dW, and db in the grads dictionary. To do so, use this formula : \n",
    "\n",
    "$$grads[\"dW\" + str(l)] = dW^{[l]}\\tag{15} $$\n",
    "\n",
    "For example, for $l=3$ this would store $dW^{[l]}$ in `grads[\"dW3\"]`.\n",
    "\n",
    "**Exercise**: Implement backpropagation for the *[LINEAR->RELU] $\\times$ (L-1) -> LINEAR -> SIGMOID* model."
   ],
   "metadata": {}
  },
  {
   "cell_type": "code",
   "execution_count": 52,
   "source": [
    "# GRADED FUNCTION: L_model_backward\r\n",
    "\r\n",
    "def L_model_backward(AL, Y, caches):\r\n",
    "    \"\"\"\r\n",
    "    Implement the backward propagation for the [LINEAR->RELU] * (L-1) -> LINEAR -> SIGMOID group\r\n",
    "    \r\n",
    "    Arguments:\r\n",
    "    AL -- probability vector, output of the forward propagation (L_model_forward())\r\n",
    "    Y -- true \"label\" vector (containing 0 if non-cat, 1 if cat)\r\n",
    "    caches -- list of caches containing:\r\n",
    "                every cache of linear_activation_forward() with \"relu\" (it's caches[l], for l in range(L-1) i.e l = 0...L-2)\r\n",
    "                the cache of linear_activation_forward() with \"sigmoid\" (it's caches[L-1])\r\n",
    "    \r\n",
    "    Returns:\r\n",
    "    grads -- A dictionary with the gradients\r\n",
    "             grads[\"dA\" + str(l)] = ...\r\n",
    "             grads[\"dW\" + str(l)] = ...\r\n",
    "             grads[\"db\" + str(l)] = ...\r\n",
    "    \"\"\"\r\n",
    "    grads = {}\r\n",
    "    L = len(caches) # the number of layers\r\n",
    "    m = AL.shape[1]\r\n",
    "    Y = Y.reshape(AL.shape) # after this line, Y is the same shape as AL\r\n",
    "\r\n",
    "    # Initializing the backpropagation\r\n",
    "    ### START CODE HERE ### (1 line of code)\r\n",
    "    dAL = -(np.divide(Y, AL) - np.divide(1-Y, 1-AL))\r\n",
    "    ### END CODE HERE ###\r\n",
    "    \r\n",
    "    # Lth layer (SIGMOID -> LINEAR) gradients. Inputs: \"AL, Y, caches\". Outputs: \"grads[\"dAL\"], grads[\"dWL\"], grads[\"dbL\"]\r\n",
    "    ### START CODE HERE ### (approx. 2 lines)\r\n",
    "    current_cache = caches[L-1]\r\n",
    "    grads[\"dA\" + str(L)], grads[\"dW\" + str(L)], grads[\"db\" + str(L)] = linear_activation_backward(dAL, current_cache, \"sigmoid\")\r\n",
    "    ### END CODE HERE ###\r\n",
    "    \r\n",
    "    for l in reversed(range(L - 1)):\r\n",
    "        # lth layer: (RELU -> LINEAR) gradients.\r\n",
    "        # Inputs: \"grads[\"dA\" + str(l + 2)], caches\". Outputs: \"grads[\"dA\" + str(l + 1)] , grads[\"dW\" + str(l + 1)] , grads[\"db\" + str(l + 1)] \r\n",
    "        ### START CODE HERE ### (approx. 5 lines)\r\n",
    "        current_cache = caches[l]\r\n",
    "        dA_prev_temp, dW_temp, db_temp = linear_activation_backward(grads[\"dA\" + str(l+2)], current_cache, \"relu\")\r\n",
    "        grads[\"dA\" + str(l + 1)] = dA_prev_temp\r\n",
    "        grads[\"dW\" + str(l + 1)] = dW_temp\r\n",
    "        grads[\"db\" + str(l + 1)] = db_temp\r\n",
    "        ### END CODE HERE ###\r\n",
    "\r\n",
    "    return grads"
   ],
   "outputs": [],
   "metadata": {
    "collapsed": true
   }
  },
  {
   "cell_type": "code",
   "execution_count": 53,
   "source": [
    "AL, Y_assess, caches = L_model_backward_test_case()\r\n",
    "grads = L_model_backward(AL, Y_assess, caches)\r\n",
    "print (\"dW1 = \"+ str(grads[\"dW1\"]))\r\n",
    "print (\"db1 = \"+ str(grads[\"db1\"]))\r\n",
    "print (\"dA1 = \"+ str(grads[\"dA1\"]))"
   ],
   "outputs": [
    {
     "output_type": "stream",
     "name": "stdout",
     "text": [
      "dW1 = [[0.41010002 0.07807203 0.13798444 0.10502167]\n",
      " [0.         0.         0.         0.        ]\n",
      " [0.05283652 0.01005865 0.01777766 0.0135308 ]]\n",
      "db1 = [[-0.22007063]\n",
      " [ 0.        ]\n",
      " [-0.02835349]]\n",
      "dA1 = [[ 0.          0.52257901]\n",
      " [ 0.         -0.3269206 ]\n",
      " [ 0.         -0.32070404]\n",
      " [ 0.         -0.74079187]]\n"
     ]
    }
   ],
   "metadata": {}
  },
  {
   "cell_type": "markdown",
   "source": [
    "**Expected Output**\r\n",
    "\r\n",
    "<table style=\"width:60%\">\r\n",
    "  \r\n",
    "  <tr>\r\n",
    "    <td > dW1 </td> \r\n",
    "           <td > [[ 0.41010002  0.07807203  0.13798444  0.10502167]\r\n",
    " [ 0.          0.          0.          0.        ]\r\n",
    " [ 0.05283652  0.01005865  0.01777766  0.0135308 ]] </td> \r\n",
    "  </tr> \r\n",
    "  \r\n",
    "  <tr>\r\n",
    "    <td > db1 </td> \r\n",
    "           <td > [[-0.22007063]\r\n",
    " [ 0.        ]\r\n",
    " [-0.02835349]] </td> \r\n",
    "  </tr> \r\n",
    "  \r\n",
    "  <tr>\r\n",
    "  <td > dA1 </td> \r\n",
    "           <td > [[ 0.          0.52257901]\r\n",
    " [ 0.         -0.3269206 ]\r\n",
    " [ 0.         -0.32070404]\r\n",
    " [ 0.         -0.74079187]] </td> \r\n",
    "\r\n",
    "  </tr> \r\n",
    "</table>\r\n",
    "\r\n"
   ],
   "metadata": {}
  },
  {
   "cell_type": "markdown",
   "source": [
    "### 6.4 - Update Parameters\n",
    "\n",
    "In this section you will update the parameters of the model, using gradient descent: \n",
    "\n",
    "$$ W^{[l]} = W^{[l]} - \\alpha \\text{ } dW^{[l]} \\tag{16}$$\n",
    "$$ b^{[l]} = b^{[l]} - \\alpha \\text{ } db^{[l]} \\tag{17}$$\n",
    "\n",
    "where $\\alpha$ is the learning rate. After computing the updated parameters, store them in the parameters dictionary. "
   ],
   "metadata": {}
  },
  {
   "cell_type": "markdown",
   "source": [
    "**Exercise**: Implement `update_parameters()` to update your parameters using gradient descent.\n",
    "\n",
    "**Instructions**:\n",
    "Update parameters using gradient descent on every $W^{[l]}$ and $b^{[l]}$ for $l = 1, 2, ..., L$. \n"
   ],
   "metadata": {}
  },
  {
   "cell_type": "code",
   "execution_count": 56,
   "source": [
    "# GRADED FUNCTION: update_parameters\r\n",
    "\r\n",
    "def update_parameters(parameters, grads, learning_rate):\r\n",
    "    \"\"\"\r\n",
    "    Update parameters using gradient descent\r\n",
    "    \r\n",
    "    Arguments:\r\n",
    "    parameters -- python dictionary containing your parameters \r\n",
    "    grads -- python dictionary containing your gradients, output of L_model_backward\r\n",
    "    \r\n",
    "    Returns:\r\n",
    "    parameters -- python dictionary containing your updated parameters \r\n",
    "                  parameters[\"W\" + str(l)] = ... \r\n",
    "                  parameters[\"b\" + str(l)] = ...\r\n",
    "    \"\"\"\r\n",
    "    \r\n",
    "    L = len(parameters) // 2 # number of layers in the neural network\r\n",
    "\r\n",
    "    # Update rule for each parameter. Use a for loop.\r\n",
    "    ### START CODE HERE ### (≈ 3 lines of code)\r\n",
    "    for l in range(L):\r\n",
    "        parameters[\"W\" + str(l+1)] = parameters[\"W\" + str(l+1)] - (learning_rate * grads[\"dW\"+str(l+1)])\r\n",
    "        parameters[\"b\" + str(l+1)] = parameters[\"b\" + str(l+1)] - (learning_rate * grads[\"db\"+str(l+1)])\r\n",
    "    ### END CODE HERE ###\r\n",
    "        \r\n",
    "    return parameters"
   ],
   "outputs": [],
   "metadata": {
    "collapsed": true
   }
  },
  {
   "cell_type": "code",
   "execution_count": 57,
   "source": [
    "parameters, grads = update_parameters_test_case()\r\n",
    "parameters = update_parameters(parameters, grads, 0.1)\r\n",
    "\r\n",
    "print (\"W1 = \"+ str(parameters[\"W1\"]))\r\n",
    "print (\"b1 = \"+ str(parameters[\"b1\"]))\r\n",
    "print (\"W2 = \"+ str(parameters[\"W2\"]))\r\n",
    "print (\"b2 = \"+ str(parameters[\"b2\"]))"
   ],
   "outputs": [
    {
     "output_type": "stream",
     "name": "stdout",
     "text": [
      "W1 = [[-0.59562069 -0.09991781 -2.14584584  1.82662008]\n",
      " [-1.76569676 -0.80627147  0.51115557 -1.18258802]\n",
      " [-1.0535704  -0.86128581  0.68284052  2.20374577]]\n",
      "b1 = [[-0.04659241]\n",
      " [-1.28888275]\n",
      " [ 0.53405496]]\n",
      "W2 = [[-0.55569196  0.0354055   1.32964895]]\n",
      "b2 = [[-0.84610769]]\n"
     ]
    }
   ],
   "metadata": {}
  },
  {
   "cell_type": "markdown",
   "source": [
    "**Expected Output**:\r\n",
    "\r\n",
    "<table style=\"width:100%\"> \r\n",
    "    <tr>\r\n",
    "    <td > W1 </td> \r\n",
    "           <td > [[-0.59562069 -0.09991781 -2.14584584  1.82662008]\r\n",
    " [-1.76569676 -0.80627147  0.51115557 -1.18258802]\r\n",
    " [-1.0535704  -0.86128581  0.68284052  2.20374577]] </td> \r\n",
    "  </tr> \r\n",
    "  \r\n",
    "  <tr>\r\n",
    "    <td > b1 </td> \r\n",
    "           <td > [[-0.04659241]\r\n",
    " [-1.28888275]\r\n",
    " [ 0.53405496]] </td> \r\n",
    "  </tr> \r\n",
    "  <tr>\r\n",
    "    <td > W2 </td> \r\n",
    "           <td > [[-0.55569196  0.0354055   1.32964895]]</td> \r\n",
    "  </tr> \r\n",
    "  \r\n",
    "  <tr>\r\n",
    "    <td > b2 </td> \r\n",
    "           <td > [[-0.84610769]] </td> \r\n",
    "  </tr> \r\n",
    "</table>\r\n"
   ],
   "metadata": {}
  },
  {
   "cell_type": "markdown",
   "source": [
    "\n",
    "## 7 - Conclusion\n",
    "\n",
    "Congrats on implementing all the functions required for building a deep neural network! \n",
    "\n",
    "We know it was a long assignment but going forward it will only get better. The next part of the assignment is easier. \n",
    "\n",
    "In the next assignment you will put all these together to build two models:\n",
    "- A two-layer neural network\n",
    "- An L-layer neural network\n",
    "\n",
    "You will in fact use these models to classify cat vs non-cat images!"
   ],
   "metadata": {}
  }
 ],
 "metadata": {
  "coursera": {
   "course_slug": "neural-networks-deep-learning",
   "graded_item_id": "c4HO0",
   "launcher_item_id": "lSYZM"
  },
  "kernelspec": {
   "name": "python3",
   "display_name": "Python 3.9.4 64-bit ('venviroment': venv)"
  },
  "language_info": {
   "codemirror_mode": {
    "name": "ipython",
    "version": 3
   },
   "file_extension": ".py",
   "mimetype": "text/x-python",
   "name": "python",
   "nbconvert_exporter": "python",
   "pygments_lexer": "ipython3",
   "version": "3.9.4"
  },
  "interpreter": {
   "hash": "c03009daf071cf8e1a8c4dff589ade396f774b0f78781d20ebb9bb6fbcc16df8"
  }
 },
 "nbformat": 4,
 "nbformat_minor": 1
}